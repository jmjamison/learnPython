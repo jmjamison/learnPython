{
 "cells": [
  {
   "cell_type": "code",
   "execution_count": 15,
   "metadata": {},
   "outputs": [],
   "source": [
    "import requests\n",
    "import pandas as pd\n",
    "import numpy as np\n",
    "from bs4 import BeautifulSoup\n",
    "from collections import OrderedDict"
   ]
  },
  {
   "cell_type": "code",
   "execution_count": 16,
   "metadata": {},
   "outputs": [],
   "source": [
    "url = \"http://pokemondb.net/pokedex/all\""
   ]
  },
  {
   "cell_type": "code",
   "execution_count": 17,
   "metadata": {},
   "outputs": [],
   "source": [
    "page = requests.get(url)"
   ]
  },
  {
   "cell_type": "code",
   "execution_count": 18,
   "metadata": {},
   "outputs": [],
   "source": [
    "#print(page.text)"
   ]
  },
  {
   "cell_type": "code",
   "execution_count": 19,
   "metadata": {},
   "outputs": [
    {
     "data": {
      "text/plain": [
       "[       #                         Name            Type  Total   HP  Attack  \\\n",
       " 0      1                    Bulbasaur     GrassPoison    318   45      49   \n",
       " 1      2                      Ivysaur     GrassPoison    405   60      62   \n",
       " 2      3                     Venusaur     GrassPoison    525   80      82   \n",
       " 3      3        VenusaurMega Venusaur     GrassPoison    625   80     100   \n",
       " 4      4                   Charmander            Fire    309   39      52   \n",
       " 5      5                   Charmeleon            Fire    405   58      64   \n",
       " 6      6                    Charizard      FireFlying    534   78      84   \n",
       " 7      6    CharizardMega Charizard X      FireDragon    634   78     130   \n",
       " 8      6    CharizardMega Charizard Y      FireFlying    634   78     104   \n",
       " 9      7                     Squirtle           Water    314   44      48   \n",
       " 10     8                    Wartortle           Water    405   59      63   \n",
       " 11     9                    Blastoise           Water    530   79      83   \n",
       " 12     9      BlastoiseMega Blastoise           Water    630   79     103   \n",
       " 13    10                     Caterpie             Bug    195   45      30   \n",
       " 14    11                      Metapod             Bug    205   50      20   \n",
       " 15    12                   Butterfree       BugFlying    395   60      45   \n",
       " 16    13                       Weedle       BugPoison    195   40      35   \n",
       " 17    14                       Kakuna       BugPoison    205   45      25   \n",
       " 18    15                     Beedrill       BugPoison    395   65      90   \n",
       " 19    15        BeedrillMega Beedrill       BugPoison    495   65     150   \n",
       " 20    16                       Pidgey    NormalFlying    251   40      45   \n",
       " 21    17                    Pidgeotto    NormalFlying    349   63      60   \n",
       " 22    18                      Pidgeot    NormalFlying    479   83      80   \n",
       " 23    18          PidgeotMega Pidgeot    NormalFlying    579   83      80   \n",
       " 24    19                      Rattata          Normal    253   30      56   \n",
       " 25    19        RattataAlolan Rattata      DarkNormal    253   30      56   \n",
       " 26    20                     Raticate          Normal    413   55      81   \n",
       " 27    20      RaticateAlolan Raticate      DarkNormal    413   75      71   \n",
       " 28    21                      Spearow    NormalFlying    262   40      60   \n",
       " 29    22                       Fearow    NormalFlying    442   65      90   \n",
       " ..   ...                          ...             ...    ...  ...     ...   \n",
       " 896  783                     Hakamo-o  DragonFighting    420   55      75   \n",
       " 897  784                      Kommo-o  DragonFighting    600   75     110   \n",
       " 898  785                    Tapu Koko   ElectricFairy    570   70     115   \n",
       " 899  786                    Tapu Lele    PsychicFairy    570   70      85   \n",
       " 900  787                    Tapu Bulu      GrassFairy    570   70     130   \n",
       " 901  788                    Tapu Fini      WaterFairy    570   70      75   \n",
       " 902  789                       Cosmog         Psychic    200   43      29   \n",
       " 903  790                      Cosmoem         Psychic    400   43      29   \n",
       " 904  791                     Solgaleo    PsychicSteel    680  137     137   \n",
       " 905  792                       Lunala    PsychicGhost    680  137     113   \n",
       " 906  793                     Nihilego      RockPoison    570  109      53   \n",
       " 907  794                     Buzzwole     BugFighting    570  107     139   \n",
       " 908  795                    Pheromosa     BugFighting    570   71     137   \n",
       " 909  796                    Xurkitree        Electric    570   83      89   \n",
       " 910  797                   Celesteela     SteelFlying    570   97     101   \n",
       " 911  798                      Kartana      GrassSteel    570   59     181   \n",
       " 912  799                     Guzzlord      DarkDragon    570  223     101   \n",
       " 913  800                     Necrozma         Psychic    600   97     107   \n",
       " 914  800   NecrozmaDusk Mane Necrozma    PsychicSteel    680   97     157   \n",
       " 915  800  NecrozmaDawn Wings Necrozma    PsychicGhost    680   97     113   \n",
       " 916  800       NecrozmaUltra Necrozma   PsychicDragon    754   97     167   \n",
       " 917  801                     Magearna      SteelFairy    600   80      95   \n",
       " 918  802                    Marshadow   FightingGhost    600   90     125   \n",
       " 919  803                      Poipole          Poison    420   67      73   \n",
       " 920  804                    Naganadel    PoisonDragon    540   73      73   \n",
       " 921  805                    Stakataka       RockSteel    570   61     131   \n",
       " 922  806                  Blacephalon       FireGhost    570   53     127   \n",
       " 923  807                      Zeraora        Electric    600   88     112   \n",
       " 924  808                       Meltan           Steel    300   46      65   \n",
       " 925  809                     Melmetal           Steel    600  135     143   \n",
       " \n",
       "      Defense  Sp. Atk  Sp. Def  Speed  \n",
       " 0         49       65       65     45  \n",
       " 1         63       80       80     60  \n",
       " 2         83      100      100     80  \n",
       " 3        123      122      120     80  \n",
       " 4         43       60       50     65  \n",
       " 5         58       80       65     80  \n",
       " 6         78      109       85    100  \n",
       " 7        111      130       85    100  \n",
       " 8         78      159      115    100  \n",
       " 9         65       50       64     43  \n",
       " 10        80       65       80     58  \n",
       " 11       100       85      105     78  \n",
       " 12       120      135      115     78  \n",
       " 13        35       20       20     45  \n",
       " 14        55       25       25     30  \n",
       " 15        50       90       80     70  \n",
       " 16        30       20       20     50  \n",
       " 17        50       25       25     35  \n",
       " 18        40       45       80     75  \n",
       " 19        40       15       80    145  \n",
       " 20        40       35       35     56  \n",
       " 21        55       50       50     71  \n",
       " 22        75       70       70    101  \n",
       " 23        80      135       80    121  \n",
       " 24        35       25       35     72  \n",
       " 25        35       25       35     72  \n",
       " 26        60       50       70     97  \n",
       " 27        70       40       80     77  \n",
       " 28        30       31       31     70  \n",
       " 29        65       61       61    100  \n",
       " ..       ...      ...      ...    ...  \n",
       " 896       90       65       70     65  \n",
       " 897      125      100      105     85  \n",
       " 898       85       95       75    130  \n",
       " 899       75      130      115     95  \n",
       " 900      115       85       95     75  \n",
       " 901      115       95      130     85  \n",
       " 902       31       29       31     37  \n",
       " 903      131       29      131     37  \n",
       " 904      107      113       89     97  \n",
       " 905       89      137      107     97  \n",
       " 906       47      127      131    103  \n",
       " 907      139       53       53     79  \n",
       " 908       37      137       37    151  \n",
       " 909       71      173       71     83  \n",
       " 910      103      107      101     61  \n",
       " 911      131       59       31    109  \n",
       " 912       53       97       53     43  \n",
       " 913      101      127       89     79  \n",
       " 914      127      113      109     77  \n",
       " 915      109      157      127     77  \n",
       " 916       97      167       97    129  \n",
       " 917      115      130      115     65  \n",
       " 918       80       90       90    125  \n",
       " 919       67       73       67     73  \n",
       " 920       73      127       73    121  \n",
       " 921      211       53      101     13  \n",
       " 922       53      151       79    107  \n",
       " 923       75      102       80    143  \n",
       " 924       65       55       35     34  \n",
       " 925      143       80       65     34  \n",
       " \n",
       " [926 rows x 10 columns]]"
      ]
     },
     "execution_count": 19,
     "metadata": {},
     "output_type": "execute_result"
    }
   ],
   "source": [
    "df = pd.read_html(page.text)\n",
    "#print(df)\n",
    "df"
   ]
  },
  {
   "cell_type": "code",
   "execution_count": null,
   "metadata": {},
   "outputs": [],
   "source": []
  },
  {
   "cell_type": "code",
   "execution_count": 20,
   "metadata": {},
   "outputs": [
    {
     "ename": "NameError",
     "evalue": "name 'lh' is not defined",
     "output_type": "error",
     "traceback": [
      "\u001b[0;31m---------------------------------------------------------------------------\u001b[0m",
      "\u001b[0;31mNameError\u001b[0m                                 Traceback (most recent call last)",
      "\u001b[0;32m<ipython-input-20-dfb373ab7662>\u001b[0m in \u001b[0;36m<module>\u001b[0;34m\u001b[0m\n\u001b[0;32m----> 1\u001b[0;31m \u001b[0mdoc\u001b[0m \u001b[0;34m=\u001b[0m \u001b[0mlh\u001b[0m\u001b[0;34m.\u001b[0m\u001b[0mfromstring\u001b[0m\u001b[0;34m(\u001b[0m\u001b[0mpage\u001b[0m\u001b[0;34m.\u001b[0m\u001b[0mcontent\u001b[0m\u001b[0;34m)\u001b[0m\u001b[0;34m\u001b[0m\u001b[0m\n\u001b[0m\u001b[1;32m      2\u001b[0m \u001b[0mtr_elements\u001b[0m\u001b[0;34m=\u001b[0m\u001b[0mdoc\u001b[0m\u001b[0;34m.\u001b[0m\u001b[0mxpath\u001b[0m\u001b[0;34m(\u001b[0m\u001b[0;34m'//tr'\u001b[0m\u001b[0;34m)\u001b[0m\u001b[0;34m\u001b[0m\u001b[0m\n\u001b[1;32m      3\u001b[0m \u001b[0;34m[\u001b[0m\u001b[0mlen\u001b[0m\u001b[0;34m(\u001b[0m\u001b[0mT\u001b[0m\u001b[0;34m)\u001b[0m \u001b[0;32mfor\u001b[0m \u001b[0mT\u001b[0m \u001b[0;32min\u001b[0m \u001b[0mtr_elements\u001b[0m\u001b[0;34m[\u001b[0m\u001b[0;34m:\u001b[0m\u001b[0;36m12\u001b[0m\u001b[0;34m]\u001b[0m\u001b[0;34m]\u001b[0m\u001b[0;34m\u001b[0m\u001b[0m\n",
      "\u001b[0;31mNameError\u001b[0m: name 'lh' is not defined"
     ]
    }
   ],
   "source": [
    "doc = lh.fromstring(page.content)\n",
    "tr_elements=doc.xpath('//tr')\n",
    "[len(T) for T in tr_elements[:12]]"
   ]
  },
  {
   "cell_type": "code",
   "execution_count": 21,
   "metadata": {},
   "outputs": [
    {
     "ename": "NameError",
     "evalue": "name 'doc' is not defined",
     "output_type": "error",
     "traceback": [
      "\u001b[0;31m---------------------------------------------------------------------------\u001b[0m",
      "\u001b[0;31mNameError\u001b[0m                                 Traceback (most recent call last)",
      "\u001b[0;32m<ipython-input-21-2f3b0657b6dd>\u001b[0m in \u001b[0;36m<module>\u001b[0;34m\u001b[0m\n\u001b[0;32m----> 1\u001b[0;31m \u001b[0mtr_elements\u001b[0m\u001b[0;34m=\u001b[0m\u001b[0mdoc\u001b[0m\u001b[0;34m.\u001b[0m\u001b[0mxpath\u001b[0m\u001b[0;34m(\u001b[0m\u001b[0;34m'//tr'\u001b[0m\u001b[0;34m)\u001b[0m\u001b[0;34m\u001b[0m\u001b[0m\n\u001b[0m\u001b[1;32m      2\u001b[0m \u001b[0mcol\u001b[0m\u001b[0;34m=\u001b[0m\u001b[0;34m[\u001b[0m\u001b[0;34m]\u001b[0m\u001b[0;34m\u001b[0m\u001b[0m\n\u001b[1;32m      3\u001b[0m \u001b[0mi\u001b[0m\u001b[0;34m=\u001b[0m\u001b[0;36m0\u001b[0m\u001b[0;34m\u001b[0m\u001b[0m\n\u001b[1;32m      4\u001b[0m \u001b[0;32mfor\u001b[0m \u001b[0mt\u001b[0m \u001b[0;32min\u001b[0m \u001b[0mtr_elements\u001b[0m\u001b[0;34m[\u001b[0m\u001b[0;36m0\u001b[0m\u001b[0;34m]\u001b[0m\u001b[0;34m:\u001b[0m\u001b[0;34m\u001b[0m\u001b[0m\n\u001b[1;32m      5\u001b[0m     \u001b[0mi\u001b[0m\u001b[0;34m+=\u001b[0m\u001b[0;36m1\u001b[0m\u001b[0;34m\u001b[0m\u001b[0m\n",
      "\u001b[0;31mNameError\u001b[0m: name 'doc' is not defined"
     ]
    }
   ],
   "source": [
    "tr_elements=doc.xpath('//tr')\n",
    "col=[]\n",
    "i=0\n",
    "for t in tr_elements[0]:\n",
    "    i+=1\n",
    "    name=t.text_content()\n",
    "    print('%d: \"%s\"' %(i, name))\n",
    "    col.append((name,[]))"
   ]
  },
  {
   "cell_type": "code",
   "execution_count": 22,
   "metadata": {},
   "outputs": [
    {
     "ename": "NameError",
     "evalue": "name 'tr_elements' is not defined",
     "output_type": "error",
     "traceback": [
      "\u001b[0;31m---------------------------------------------------------------------------\u001b[0m",
      "\u001b[0;31mNameError\u001b[0m                                 Traceback (most recent call last)",
      "\u001b[0;32m<ipython-input-22-54b524ff5a20>\u001b[0m in \u001b[0;36m<module>\u001b[0;34m\u001b[0m\n\u001b[1;32m      1\u001b[0m \u001b[0;31m#Since out first row is the header, data is stored on the second row onwards\u001b[0m\u001b[0;34m\u001b[0m\u001b[0;34m\u001b[0m\u001b[0m\n\u001b[0;32m----> 2\u001b[0;31m \u001b[0;32mfor\u001b[0m \u001b[0mj\u001b[0m \u001b[0;32min\u001b[0m \u001b[0mrange\u001b[0m\u001b[0;34m(\u001b[0m\u001b[0;36m1\u001b[0m\u001b[0;34m,\u001b[0m\u001b[0mlen\u001b[0m\u001b[0;34m(\u001b[0m\u001b[0mtr_elements\u001b[0m\u001b[0;34m)\u001b[0m\u001b[0;34m)\u001b[0m\u001b[0;34m:\u001b[0m\u001b[0;34m\u001b[0m\u001b[0m\n\u001b[0m\u001b[1;32m      3\u001b[0m     \u001b[0;31m#T is our j'th row\u001b[0m\u001b[0;34m\u001b[0m\u001b[0;34m\u001b[0m\u001b[0m\n\u001b[1;32m      4\u001b[0m     \u001b[0mT\u001b[0m\u001b[0;34m=\u001b[0m\u001b[0mtr_elements\u001b[0m\u001b[0;34m[\u001b[0m\u001b[0mj\u001b[0m\u001b[0;34m]\u001b[0m\u001b[0;34m\u001b[0m\u001b[0m\n\u001b[1;32m      5\u001b[0m \u001b[0;34m\u001b[0m\u001b[0m\n",
      "\u001b[0;31mNameError\u001b[0m: name 'tr_elements' is not defined"
     ]
    }
   ],
   "source": [
    "#Since out first row is the header, data is stored on the second row onwards\n",
    "for j in range(1,len(tr_elements)):\n",
    "    #T is our j'th row\n",
    "    T=tr_elements[j]\n",
    "    \n",
    "    #If row is not of size 10, the //tr data is not from our table \n",
    "    if len(T)!=10:\n",
    "        break\n",
    "    \n",
    "    #i is the index of our column\n",
    "    i=0\n",
    "    \n",
    "    #Iterate through each element of the row\n",
    "    for t in T.iterchildren():\n",
    "        data=t.text_content() \n",
    "        #Check if row is empty\n",
    "        if i>0:\n",
    "        #Convert any numerical value to integers\n",
    "            try:\n",
    "                data=int(data)\n",
    "            except:\n",
    "                pass\n",
    "        #Append the data to the empty list of the i'th column\n",
    "        col[i][1].append(data)\n",
    "        #Increment i for the next column\n",
    "        i+=1"
   ]
  },
  {
   "cell_type": "code",
   "execution_count": 23,
   "metadata": {},
   "outputs": [
    {
     "ename": "NameError",
     "evalue": "name 'col' is not defined",
     "output_type": "error",
     "traceback": [
      "\u001b[0;31m---------------------------------------------------------------------------\u001b[0m",
      "\u001b[0;31mNameError\u001b[0m                                 Traceback (most recent call last)",
      "\u001b[0;32m<ipython-input-23-5dc23c371209>\u001b[0m in \u001b[0;36m<module>\u001b[0;34m\u001b[0m\n\u001b[0;32m----> 1\u001b[0;31m \u001b[0;34m[\u001b[0m\u001b[0mlen\u001b[0m\u001b[0;34m(\u001b[0m\u001b[0mC\u001b[0m\u001b[0;34m)\u001b[0m \u001b[0;32mfor\u001b[0m \u001b[0;34m(\u001b[0m\u001b[0mtitle\u001b[0m\u001b[0;34m,\u001b[0m\u001b[0mC\u001b[0m\u001b[0;34m)\u001b[0m \u001b[0;32min\u001b[0m \u001b[0mcol\u001b[0m\u001b[0;34m]\u001b[0m\u001b[0;34m\u001b[0m\u001b[0m\n\u001b[0m",
      "\u001b[0;31mNameError\u001b[0m: name 'col' is not defined"
     ]
    }
   ],
   "source": [
    "[len(C) for (title,C) in col]"
   ]
  },
  {
   "cell_type": "code",
   "execution_count": 24,
   "metadata": {},
   "outputs": [
    {
     "ename": "NameError",
     "evalue": "name 'col' is not defined",
     "output_type": "error",
     "traceback": [
      "\u001b[0;31m---------------------------------------------------------------------------\u001b[0m",
      "\u001b[0;31mNameError\u001b[0m                                 Traceback (most recent call last)",
      "\u001b[0;32m<ipython-input-24-ad30ba06f1b9>\u001b[0m in \u001b[0;36m<module>\u001b[0;34m\u001b[0m\n\u001b[0;32m----> 1\u001b[0;31m \u001b[0mDict\u001b[0m\u001b[0;34m=\u001b[0m\u001b[0;34m{\u001b[0m\u001b[0mtitle\u001b[0m\u001b[0;34m:\u001b[0m\u001b[0mcolumn\u001b[0m \u001b[0;32mfor\u001b[0m \u001b[0;34m(\u001b[0m\u001b[0mtitle\u001b[0m\u001b[0;34m,\u001b[0m\u001b[0mcolumn\u001b[0m\u001b[0;34m)\u001b[0m \u001b[0;32min\u001b[0m \u001b[0mcol\u001b[0m\u001b[0;34m}\u001b[0m\u001b[0;34m\u001b[0m\u001b[0m\n\u001b[0m\u001b[1;32m      2\u001b[0m \u001b[0mdf\u001b[0m\u001b[0;34m=\u001b[0m\u001b[0mpd\u001b[0m\u001b[0;34m.\u001b[0m\u001b[0mDataFrame\u001b[0m\u001b[0;34m(\u001b[0m\u001b[0mDict\u001b[0m\u001b[0;34m)\u001b[0m\u001b[0;34m\u001b[0m\u001b[0m\n",
      "\u001b[0;31mNameError\u001b[0m: name 'col' is not defined"
     ]
    }
   ],
   "source": [
    "Dict={title:column for (title,column) in col}\n",
    "df=pd.DataFrame(Dict)"
   ]
  },
  {
   "cell_type": "code",
   "execution_count": 25,
   "metadata": {},
   "outputs": [
    {
     "ename": "AttributeError",
     "evalue": "'list' object has no attribute 'head'",
     "output_type": "error",
     "traceback": [
      "\u001b[0;31m---------------------------------------------------------------------------\u001b[0m",
      "\u001b[0;31mAttributeError\u001b[0m                            Traceback (most recent call last)",
      "\u001b[0;32m<ipython-input-25-c42a15b2c7cf>\u001b[0m in \u001b[0;36m<module>\u001b[0;34m\u001b[0m\n\u001b[0;32m----> 1\u001b[0;31m \u001b[0mdf\u001b[0m\u001b[0;34m.\u001b[0m\u001b[0mhead\u001b[0m\u001b[0;34m(\u001b[0m\u001b[0;34m)\u001b[0m\u001b[0;34m\u001b[0m\u001b[0m\n\u001b[0m",
      "\u001b[0;31mAttributeError\u001b[0m: 'list' object has no attribute 'head'"
     ]
    }
   ],
   "source": [
    "df.head()"
   ]
  },
  {
   "cell_type": "code",
   "execution_count": 26,
   "metadata": {},
   "outputs": [],
   "source": [
    "my_list = pd.read_html(page.text)"
   ]
  },
  {
   "cell_type": "code",
   "execution_count": 27,
   "metadata": {},
   "outputs": [
    {
     "data": {
      "text/plain": [
       "list"
      ]
     },
     "execution_count": 27,
     "metadata": {},
     "output_type": "execute_result"
    }
   ],
   "source": [
    "type(my_list)"
   ]
  },
  {
   "cell_type": "code",
   "execution_count": 28,
   "metadata": {},
   "outputs": [
    {
     "name": "stdout",
     "output_type": "stream",
     "text": [
      "[       #                         Name            Type  Total   HP  Attack  \\\n",
      "0      1                    Bulbasaur     GrassPoison    318   45      49   \n",
      "1      2                      Ivysaur     GrassPoison    405   60      62   \n",
      "2      3                     Venusaur     GrassPoison    525   80      82   \n",
      "3      3        VenusaurMega Venusaur     GrassPoison    625   80     100   \n",
      "4      4                   Charmander            Fire    309   39      52   \n",
      "5      5                   Charmeleon            Fire    405   58      64   \n",
      "6      6                    Charizard      FireFlying    534   78      84   \n",
      "7      6    CharizardMega Charizard X      FireDragon    634   78     130   \n",
      "8      6    CharizardMega Charizard Y      FireFlying    634   78     104   \n",
      "9      7                     Squirtle           Water    314   44      48   \n",
      "10     8                    Wartortle           Water    405   59      63   \n",
      "11     9                    Blastoise           Water    530   79      83   \n",
      "12     9      BlastoiseMega Blastoise           Water    630   79     103   \n",
      "13    10                     Caterpie             Bug    195   45      30   \n",
      "14    11                      Metapod             Bug    205   50      20   \n",
      "15    12                   Butterfree       BugFlying    395   60      45   \n",
      "16    13                       Weedle       BugPoison    195   40      35   \n",
      "17    14                       Kakuna       BugPoison    205   45      25   \n",
      "18    15                     Beedrill       BugPoison    395   65      90   \n",
      "19    15        BeedrillMega Beedrill       BugPoison    495   65     150   \n",
      "20    16                       Pidgey    NormalFlying    251   40      45   \n",
      "21    17                    Pidgeotto    NormalFlying    349   63      60   \n",
      "22    18                      Pidgeot    NormalFlying    479   83      80   \n",
      "23    18          PidgeotMega Pidgeot    NormalFlying    579   83      80   \n",
      "24    19                      Rattata          Normal    253   30      56   \n",
      "25    19        RattataAlolan Rattata      DarkNormal    253   30      56   \n",
      "26    20                     Raticate          Normal    413   55      81   \n",
      "27    20      RaticateAlolan Raticate      DarkNormal    413   75      71   \n",
      "28    21                      Spearow    NormalFlying    262   40      60   \n",
      "29    22                       Fearow    NormalFlying    442   65      90   \n",
      "..   ...                          ...             ...    ...  ...     ...   \n",
      "896  783                     Hakamo-o  DragonFighting    420   55      75   \n",
      "897  784                      Kommo-o  DragonFighting    600   75     110   \n",
      "898  785                    Tapu Koko   ElectricFairy    570   70     115   \n",
      "899  786                    Tapu Lele    PsychicFairy    570   70      85   \n",
      "900  787                    Tapu Bulu      GrassFairy    570   70     130   \n",
      "901  788                    Tapu Fini      WaterFairy    570   70      75   \n",
      "902  789                       Cosmog         Psychic    200   43      29   \n",
      "903  790                      Cosmoem         Psychic    400   43      29   \n",
      "904  791                     Solgaleo    PsychicSteel    680  137     137   \n",
      "905  792                       Lunala    PsychicGhost    680  137     113   \n",
      "906  793                     Nihilego      RockPoison    570  109      53   \n",
      "907  794                     Buzzwole     BugFighting    570  107     139   \n",
      "908  795                    Pheromosa     BugFighting    570   71     137   \n",
      "909  796                    Xurkitree        Electric    570   83      89   \n",
      "910  797                   Celesteela     SteelFlying    570   97     101   \n",
      "911  798                      Kartana      GrassSteel    570   59     181   \n",
      "912  799                     Guzzlord      DarkDragon    570  223     101   \n",
      "913  800                     Necrozma         Psychic    600   97     107   \n",
      "914  800   NecrozmaDusk Mane Necrozma    PsychicSteel    680   97     157   \n",
      "915  800  NecrozmaDawn Wings Necrozma    PsychicGhost    680   97     113   \n",
      "916  800       NecrozmaUltra Necrozma   PsychicDragon    754   97     167   \n",
      "917  801                     Magearna      SteelFairy    600   80      95   \n",
      "918  802                    Marshadow   FightingGhost    600   90     125   \n",
      "919  803                      Poipole          Poison    420   67      73   \n",
      "920  804                    Naganadel    PoisonDragon    540   73      73   \n",
      "921  805                    Stakataka       RockSteel    570   61     131   \n",
      "922  806                  Blacephalon       FireGhost    570   53     127   \n",
      "923  807                      Zeraora        Electric    600   88     112   \n",
      "924  808                       Meltan           Steel    300   46      65   \n",
      "925  809                     Melmetal           Steel    600  135     143   \n",
      "\n",
      "     Defense  Sp. Atk  Sp. Def  Speed  \n",
      "0         49       65       65     45  \n",
      "1         63       80       80     60  \n",
      "2         83      100      100     80  \n",
      "3        123      122      120     80  \n",
      "4         43       60       50     65  \n",
      "5         58       80       65     80  \n",
      "6         78      109       85    100  \n",
      "7        111      130       85    100  \n",
      "8         78      159      115    100  \n",
      "9         65       50       64     43  \n",
      "10        80       65       80     58  \n",
      "11       100       85      105     78  \n",
      "12       120      135      115     78  \n",
      "13        35       20       20     45  \n",
      "14        55       25       25     30  \n",
      "15        50       90       80     70  \n",
      "16        30       20       20     50  \n",
      "17        50       25       25     35  \n",
      "18        40       45       80     75  \n",
      "19        40       15       80    145  \n",
      "20        40       35       35     56  \n",
      "21        55       50       50     71  \n",
      "22        75       70       70    101  \n",
      "23        80      135       80    121  \n",
      "24        35       25       35     72  \n",
      "25        35       25       35     72  \n",
      "26        60       50       70     97  \n",
      "27        70       40       80     77  \n",
      "28        30       31       31     70  \n",
      "29        65       61       61    100  \n",
      "..       ...      ...      ...    ...  \n",
      "896       90       65       70     65  \n",
      "897      125      100      105     85  \n",
      "898       85       95       75    130  \n",
      "899       75      130      115     95  \n",
      "900      115       85       95     75  \n",
      "901      115       95      130     85  \n",
      "902       31       29       31     37  \n",
      "903      131       29      131     37  \n",
      "904      107      113       89     97  \n",
      "905       89      137      107     97  \n",
      "906       47      127      131    103  \n",
      "907      139       53       53     79  \n",
      "908       37      137       37    151  \n",
      "909       71      173       71     83  \n",
      "910      103      107      101     61  \n",
      "911      131       59       31    109  \n",
      "912       53       97       53     43  \n",
      "913      101      127       89     79  \n",
      "914      127      113      109     77  \n",
      "915      109      157      127     77  \n",
      "916       97      167       97    129  \n",
      "917      115      130      115     65  \n",
      "918       80       90       90    125  \n",
      "919       67       73       67     73  \n",
      "920       73      127       73    121  \n",
      "921      211       53      101     13  \n",
      "922       53      151       79    107  \n",
      "923       75      102       80    143  \n",
      "924       65       55       35     34  \n",
      "925      143       80       65     34  \n",
      "\n",
      "[926 rows x 10 columns]]\n"
     ]
    }
   ],
   "source": [
    "print(my_list)"
   ]
  },
  {
   "cell_type": "code",
   "execution_count": 29,
   "metadata": {},
   "outputs": [
    {
     "ename": "TypeError",
     "evalue": "read_html() missing 1 required positional argument: 'io'",
     "output_type": "error",
     "traceback": [
      "\u001b[0;31m---------------------------------------------------------------------------\u001b[0m",
      "\u001b[0;31mTypeError\u001b[0m                                 Traceback (most recent call last)",
      "\u001b[0;32m<ipython-input-29-414dcc709960>\u001b[0m in \u001b[0;36m<module>\u001b[0;34m\u001b[0m\n\u001b[0;32m----> 1\u001b[0;31m \u001b[0mmy_list2\u001b[0m \u001b[0;34m=\u001b[0m \u001b[0mpd\u001b[0m\u001b[0;34m.\u001b[0m\u001b[0mread_html\u001b[0m\u001b[0;34m(\u001b[0m\u001b[0;34m)\u001b[0m\u001b[0;34m\u001b[0m\u001b[0m\n\u001b[0m",
      "\u001b[0;31mTypeError\u001b[0m: read_html() missing 1 required positional argument: 'io'"
     ]
    }
   ],
   "source": [
    "my_list2 = pd.read_html()"
   ]
  },
  {
   "cell_type": "code",
   "execution_count": 30,
   "metadata": {},
   "outputs": [
    {
     "name": "stdout",
     "output_type": "stream",
     "text": [
      "<html>\n",
      " <body>\n",
      "  <p>\n",
      "   http://pokemondb.net/pokedex/all\n",
      "  </p>\n",
      " </body>\n",
      "</html>\n"
     ]
    }
   ],
   "source": [
    "soup = BeautifulSoup(url, 'lxml')\n",
    "print(soup.prettify())"
   ]
  },
  {
   "cell_type": "code",
   "execution_count": 31,
   "metadata": {},
   "outputs": [
    {
     "data": {
      "text/plain": [
       "<Response [200]>"
      ]
     },
     "execution_count": 31,
     "metadata": {},
     "output_type": "execute_result"
    }
   ],
   "source": [
    "page = requests.get(url)\n",
    "page"
   ]
  },
  {
   "cell_type": "code",
   "execution_count": 32,
   "metadata": {},
   "outputs": [
    {
     "data": {
      "text/plain": [
       "pandas.core.frame.DataFrame"
      ]
     },
     "execution_count": 32,
     "metadata": {},
     "output_type": "execute_result"
    }
   ],
   "source": [
    "# df=pd.DataFrame()\n",
    "df=pd.DataFrame(my_list)\n",
    "type(df)\n",
    "#df.columns=df.iloc[0]\n",
    "#df.reindex(df.index.drop(0))\n",
    "#df\n",
    "#df.iloc[-1]"
   ]
  },
  {
   "cell_type": "code",
   "execution_count": 33,
   "metadata": {
    "scrolled": true
   },
   "outputs": [
    {
     "name": "stdout",
     "output_type": "stream",
     "text": [
      "                                                   0\n",
      "0         #                         Name         ...\n"
     ]
    }
   ],
   "source": [
    "print(df)"
   ]
  },
  {
   "cell_type": "code",
   "execution_count": 34,
   "metadata": {},
   "outputs": [
    {
     "name": "stdout",
     "output_type": "stream",
     "text": [
      "                                                   0\n",
      "0         #                         Name         ...\n"
     ]
    }
   ],
   "source": [
    "print(df)"
   ]
  },
  {
   "cell_type": "code",
   "execution_count": 35,
   "metadata": {},
   "outputs": [
    {
     "data": {
      "text/plain": [
       "[       #                         Name            Type  Total   HP  Attack  \\\n",
       " 0      1                    Bulbasaur     GrassPoison    318   45      49   \n",
       " 1      2                      Ivysaur     GrassPoison    405   60      62   \n",
       " 2      3                     Venusaur     GrassPoison    525   80      82   \n",
       " 3      3        VenusaurMega Venusaur     GrassPoison    625   80     100   \n",
       " 4      4                   Charmander            Fire    309   39      52   \n",
       " 5      5                   Charmeleon            Fire    405   58      64   \n",
       " 6      6                    Charizard      FireFlying    534   78      84   \n",
       " 7      6    CharizardMega Charizard X      FireDragon    634   78     130   \n",
       " 8      6    CharizardMega Charizard Y      FireFlying    634   78     104   \n",
       " 9      7                     Squirtle           Water    314   44      48   \n",
       " 10     8                    Wartortle           Water    405   59      63   \n",
       " 11     9                    Blastoise           Water    530   79      83   \n",
       " 12     9      BlastoiseMega Blastoise           Water    630   79     103   \n",
       " 13    10                     Caterpie             Bug    195   45      30   \n",
       " 14    11                      Metapod             Bug    205   50      20   \n",
       " 15    12                   Butterfree       BugFlying    395   60      45   \n",
       " 16    13                       Weedle       BugPoison    195   40      35   \n",
       " 17    14                       Kakuna       BugPoison    205   45      25   \n",
       " 18    15                     Beedrill       BugPoison    395   65      90   \n",
       " 19    15        BeedrillMega Beedrill       BugPoison    495   65     150   \n",
       " 20    16                       Pidgey    NormalFlying    251   40      45   \n",
       " 21    17                    Pidgeotto    NormalFlying    349   63      60   \n",
       " 22    18                      Pidgeot    NormalFlying    479   83      80   \n",
       " 23    18          PidgeotMega Pidgeot    NormalFlying    579   83      80   \n",
       " 24    19                      Rattata          Normal    253   30      56   \n",
       " 25    19        RattataAlolan Rattata      DarkNormal    253   30      56   \n",
       " 26    20                     Raticate          Normal    413   55      81   \n",
       " 27    20      RaticateAlolan Raticate      DarkNormal    413   75      71   \n",
       " 28    21                      Spearow    NormalFlying    262   40      60   \n",
       " 29    22                       Fearow    NormalFlying    442   65      90   \n",
       " ..   ...                          ...             ...    ...  ...     ...   \n",
       " 896  783                     Hakamo-o  DragonFighting    420   55      75   \n",
       " 897  784                      Kommo-o  DragonFighting    600   75     110   \n",
       " 898  785                    Tapu Koko   ElectricFairy    570   70     115   \n",
       " 899  786                    Tapu Lele    PsychicFairy    570   70      85   \n",
       " 900  787                    Tapu Bulu      GrassFairy    570   70     130   \n",
       " 901  788                    Tapu Fini      WaterFairy    570   70      75   \n",
       " 902  789                       Cosmog         Psychic    200   43      29   \n",
       " 903  790                      Cosmoem         Psychic    400   43      29   \n",
       " 904  791                     Solgaleo    PsychicSteel    680  137     137   \n",
       " 905  792                       Lunala    PsychicGhost    680  137     113   \n",
       " 906  793                     Nihilego      RockPoison    570  109      53   \n",
       " 907  794                     Buzzwole     BugFighting    570  107     139   \n",
       " 908  795                    Pheromosa     BugFighting    570   71     137   \n",
       " 909  796                    Xurkitree        Electric    570   83      89   \n",
       " 910  797                   Celesteela     SteelFlying    570   97     101   \n",
       " 911  798                      Kartana      GrassSteel    570   59     181   \n",
       " 912  799                     Guzzlord      DarkDragon    570  223     101   \n",
       " 913  800                     Necrozma         Psychic    600   97     107   \n",
       " 914  800   NecrozmaDusk Mane Necrozma    PsychicSteel    680   97     157   \n",
       " 915  800  NecrozmaDawn Wings Necrozma    PsychicGhost    680   97     113   \n",
       " 916  800       NecrozmaUltra Necrozma   PsychicDragon    754   97     167   \n",
       " 917  801                     Magearna      SteelFairy    600   80      95   \n",
       " 918  802                    Marshadow   FightingGhost    600   90     125   \n",
       " 919  803                      Poipole          Poison    420   67      73   \n",
       " 920  804                    Naganadel    PoisonDragon    540   73      73   \n",
       " 921  805                    Stakataka       RockSteel    570   61     131   \n",
       " 922  806                  Blacephalon       FireGhost    570   53     127   \n",
       " 923  807                      Zeraora        Electric    600   88     112   \n",
       " 924  808                       Meltan           Steel    300   46      65   \n",
       " 925  809                     Melmetal           Steel    600  135     143   \n",
       " \n",
       "      Defense  Sp. Atk  Sp. Def  Speed  \n",
       " 0         49       65       65     45  \n",
       " 1         63       80       80     60  \n",
       " 2         83      100      100     80  \n",
       " 3        123      122      120     80  \n",
       " 4         43       60       50     65  \n",
       " 5         58       80       65     80  \n",
       " 6         78      109       85    100  \n",
       " 7        111      130       85    100  \n",
       " 8         78      159      115    100  \n",
       " 9         65       50       64     43  \n",
       " 10        80       65       80     58  \n",
       " 11       100       85      105     78  \n",
       " 12       120      135      115     78  \n",
       " 13        35       20       20     45  \n",
       " 14        55       25       25     30  \n",
       " 15        50       90       80     70  \n",
       " 16        30       20       20     50  \n",
       " 17        50       25       25     35  \n",
       " 18        40       45       80     75  \n",
       " 19        40       15       80    145  \n",
       " 20        40       35       35     56  \n",
       " 21        55       50       50     71  \n",
       " 22        75       70       70    101  \n",
       " 23        80      135       80    121  \n",
       " 24        35       25       35     72  \n",
       " 25        35       25       35     72  \n",
       " 26        60       50       70     97  \n",
       " 27        70       40       80     77  \n",
       " 28        30       31       31     70  \n",
       " 29        65       61       61    100  \n",
       " ..       ...      ...      ...    ...  \n",
       " 896       90       65       70     65  \n",
       " 897      125      100      105     85  \n",
       " 898       85       95       75    130  \n",
       " 899       75      130      115     95  \n",
       " 900      115       85       95     75  \n",
       " 901      115       95      130     85  \n",
       " 902       31       29       31     37  \n",
       " 903      131       29      131     37  \n",
       " 904      107      113       89     97  \n",
       " 905       89      137      107     97  \n",
       " 906       47      127      131    103  \n",
       " 907      139       53       53     79  \n",
       " 908       37      137       37    151  \n",
       " 909       71      173       71     83  \n",
       " 910      103      107      101     61  \n",
       " 911      131       59       31    109  \n",
       " 912       53       97       53     43  \n",
       " 913      101      127       89     79  \n",
       " 914      127      113      109     77  \n",
       " 915      109      157      127     77  \n",
       " 916       97      167       97    129  \n",
       " 917      115      130      115     65  \n",
       " 918       80       90       90    125  \n",
       " 919       67       73       67     73  \n",
       " 920       73      127       73    121  \n",
       " 921      211       53      101     13  \n",
       " 922       53      151       79    107  \n",
       " 923       75      102       80    143  \n",
       " 924       65       55       35     34  \n",
       " 925      143       80       65     34  \n",
       " \n",
       " [926 rows x 10 columns]]"
      ]
     },
     "execution_count": 35,
     "metadata": {},
     "output_type": "execute_result"
    }
   ],
   "source": [
    "my_list"
   ]
  },
  {
   "cell_type": "code",
   "execution_count": 36,
   "metadata": {},
   "outputs": [
    {
     "data": {
      "text/html": [
       "<div>\n",
       "<style scoped>\n",
       "    .dataframe tbody tr th:only-of-type {\n",
       "        vertical-align: middle;\n",
       "    }\n",
       "\n",
       "    .dataframe tbody tr th {\n",
       "        vertical-align: top;\n",
       "    }\n",
       "\n",
       "    .dataframe thead th {\n",
       "        text-align: right;\n",
       "    }\n",
       "</style>\n",
       "<table border=\"1\" class=\"dataframe\">\n",
       "  <thead>\n",
       "    <tr style=\"text-align: right;\">\n",
       "      <th></th>\n",
       "      <th>0</th>\n",
       "    </tr>\n",
       "  </thead>\n",
       "  <tbody>\n",
       "    <tr>\n",
       "      <th>0</th>\n",
       "      <td>#                         Name         ...</td>\n",
       "    </tr>\n",
       "  </tbody>\n",
       "</table>\n",
       "</div>"
      ],
      "text/plain": [
       "                                                   0\n",
       "0         #                         Name         ..."
      ]
     },
     "execution_count": 36,
     "metadata": {},
     "output_type": "execute_result"
    }
   ],
   "source": [
    "df.head()"
   ]
  },
  {
   "cell_type": "code",
   "execution_count": null,
   "metadata": {},
   "outputs": [],
   "source": []
  },
  {
   "cell_type": "code",
   "execution_count": null,
   "metadata": {},
   "outputs": [],
   "source": []
  }
 ],
 "metadata": {
  "kernelspec": {
   "display_name": "Python 3",
   "language": "python",
   "name": "python3"
  },
  "language_info": {
   "codemirror_mode": {
    "name": "ipython",
    "version": 3
   },
   "file_extension": ".py",
   "mimetype": "text/x-python",
   "name": "python",
   "nbconvert_exporter": "python",
   "pygments_lexer": "ipython3",
   "version": "3.6.6"
  }
 },
 "nbformat": 4,
 "nbformat_minor": 2
}
